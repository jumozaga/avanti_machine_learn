{
  "nbformat": 4,
  "nbformat_minor": 0,
  "metadata": {
    "colab": {
      "provenance": [],
      "toc_visible": true
    },
    "kernelspec": {
      "name": "python3",
      "display_name": "Python 3"
    },
    "language_info": {
      "name": "python"
    }
  },
  "cells": [
    {
      "cell_type": "markdown",
      "source": [
        "# ATIVIDADE 1\n",
        "\n"
      ],
      "metadata": {
        "id": "p5f_KLe-pVnb"
      }
    },
    {
      "cell_type": "markdown",
      "source": [
        "## 1. Verificar se uma palavra é palíndromo"
      ],
      "metadata": {
        "id": "r3QvOp1WwKbA"
      }
    },
    {
      "cell_type": "code",
      "source": [
        "palavra = input(\"Digite aqui uma palavra\\n\").upper()\n",
        "print('Palíndromo') if palavra == palavra[::-1] else print('Não é palíndromo')\n",
        "\n"
      ],
      "metadata": {
        "colab": {
          "base_uri": "https://localhost:8080/"
        },
        "id": "fLaIjovUr9qR",
        "outputId": "e51da14b-8a7c-4039-9288-3df6cb57afda"
      },
      "execution_count": null,
      "outputs": [
        {
          "output_type": "stream",
          "name": "stdout",
          "text": [
            "Digite aqui uma palavra\n",
            "ovO\n",
            "Palíndromo\n"
          ]
        }
      ]
    },
    {
      "cell_type": "markdown",
      "source": [
        "## 2. Programa para quando o número digitado for zero"
      ],
      "metadata": {
        "id": "7sjLAyOwwW_b"
      }
    },
    {
      "cell_type": "code",
      "execution_count": null,
      "metadata": {
        "colab": {
          "base_uri": "https://localhost:8080/"
        },
        "id": "wmF7X6gtpOYP",
        "outputId": "ab6ec6c0-2cac-444e-af12-c8e1503a1876"
      },
      "outputs": [
        {
          "output_type": "stream",
          "name": "stdout",
          "text": [
            "Digite um número, para sair do loop precisa descobrir o número correto \n",
            "2\n",
            "Digite um número, para sair do loop precisa descobrir o número correto \n",
            "6\n",
            "Digite um número, para sair do loop precisa descobrir o número correto \n",
            "7\n",
            "Digite um número, para sair do loop precisa descobrir o número correto \n",
            "2\n",
            "Digite um número, para sair do loop precisa descobrir o número correto \n",
            "0\n",
            "Descobriu o segredo\n"
          ]
        }
      ],
      "source": [
        "while True:\n",
        "  entrada = int(input(\"Digite um número, para sair do loop precisa descobrir o número correto \\n\"))\n",
        "  if entrada == 0:\n",
        "    print(\"Descobriu o segredo\")\n",
        "    break\n"
      ]
    },
    {
      "cell_type": "markdown",
      "source": [
        "## 3. Criar lista com a string (\"python é uma linguagem poderosa\")"
      ],
      "metadata": {
        "id": "8hpzuXngy4KD"
      }
    },
    {
      "cell_type": "code",
      "source": [
        "sring = \"python é uma linguagem poderosa\"\n",
        "print(sring.split())"
      ],
      "metadata": {
        "colab": {
          "base_uri": "https://localhost:8080/"
        },
        "id": "kAuxMEPIzFZ2",
        "outputId": "3de6a10e-5076-4cec-acec-bfc4d0c62b4d"
      },
      "execution_count": null,
      "outputs": [
        {
          "output_type": "stream",
          "name": "stdout",
          "text": [
            "['python', 'é', 'uma', 'linguagem', 'poderosa']\n"
          ]
        }
      ]
    },
    {
      "cell_type": "markdown",
      "source": [
        "## 4. Criar duas novas listas(Maiores de 5 letras e terminadas com A)"
      ],
      "metadata": {
        "id": "vod1A9gVzWAA"
      }
    },
    {
      "cell_type": "code",
      "source": [
        "# Lista original\n",
        "frutas = ['banana','maçã', 'laranja', 'abacaxi']\n",
        "\n",
        "tem_5_letras = [ i for i in frutas if len(i)>5]\n",
        "termina_com_a = [f for f in frutas if (f.endswith('a') or f.endswith('ã') or f.endswith('â'))]\n",
        "\n",
        "print(\"Frutas: \", frutas)\n",
        "print(\"Frutas com mais de 5 letras: \", tem_5_letras)\n",
        "print(\"Frutas que terminam com A: \", termina_com_a)\n",
        "\n"
      ],
      "metadata": {
        "colab": {
          "base_uri": "https://localhost:8080/"
        },
        "id": "P15rGXOazXOV",
        "outputId": "a0f29235-9c2e-42f3-f96c-4dee5346ed28"
      },
      "execution_count": 1,
      "outputs": [
        {
          "output_type": "stream",
          "name": "stdout",
          "text": [
            "Frutas:  ['banana', 'maçã', 'laranja', 'abacaxi']\n",
            "Frutas com mais de 5 letras:  ['banana', 'laranja', 'abacaxi']\n",
            "Frutas que terminam com A:  ['banana', 'maçã', 'laranja']\n"
          ]
        }
      ]
    },
    {
      "cell_type": "markdown",
      "source": [
        "## 5. Retorna lista ímpares"
      ],
      "metadata": {
        "id": "Dy-rwF0B29Sg"
      }
    },
    {
      "cell_type": "code",
      "source": [
        "numeros = [1,2,3,4,5,6,7,8,9,10,11,12,13,14,15,16,17,18,19,20]\n",
        "impares = [ i for i in numeros if i%2 != 0]\n",
        "\n",
        "print('Numeros ', numeros)\n",
        "print('Ímpares ', impares)"
      ],
      "metadata": {
        "colab": {
          "base_uri": "https://localhost:8080/"
        },
        "id": "Yy2GCLuK3Hsi",
        "outputId": "93f982ab-0db6-4f65-b733-a78cf1c95822"
      },
      "execution_count": null,
      "outputs": [
        {
          "output_type": "stream",
          "name": "stdout",
          "text": [
            "Numeros  [1, 2, 3, 4, 5, 6, 7, 8, 9, 10, 11, 12, 13, 14, 15, 16, 17, 18, 19, 20]\n",
            "Ímpares  [1, 3, 5, 7, 9, 11, 13, 15, 17, 19]\n"
          ]
        }
      ]
    },
    {
      "cell_type": "markdown",
      "source": [
        "## 6. Função que receba uma lista de números e retorna lista com os primos"
      ],
      "metadata": {
        "id": "0YX89eTchh8D"
      }
    },
    {
      "cell_type": "code",
      "source": [
        "import math\n",
        "\n",
        "lista = [1,2,3,4,5,6,7,8,9,10,11,12,13]\n",
        "\n",
        "# Forma 1 - Primo um num não divisivel por n ate a raiz quadrada dele\n",
        "def eh_primo(l):\n",
        "  if l <= 1:\n",
        "    return False\n",
        "  for i in range(2, math.isqrt(l) + 1):\n",
        "    if l % i == 0:\n",
        "      return False\n",
        "  return True\n",
        "numeros_primos = list(filter(lambda x: eh_primo(x),lista))\n",
        "\n",
        "# Forma 2 - Fazendo de forma mais manual\n",
        "primo = list(filter(lambda x: (x == 2 or x == 3 or x == 5 or x == 7) or (\n",
        "    x % 2 != 0) and (x % 3 != 0) and (x % 5 != 0) and (x % 7 != 0) and (x != 1)\n",
        "    , lista))\n",
        "\n",
        "\n",
        "print(\"Lista: \", lista )\n",
        "print(\"Forma 1: \", numeros_primos)\n",
        "print(\"Forma 2: \", primo)\n",
        "\n",
        "\n"
      ],
      "metadata": {
        "colab": {
          "base_uri": "https://localhost:8080/"
        },
        "id": "CyNTuOv9hlDt",
        "outputId": "1ac055b4-debf-4459-ed05-f9ef80a4b29b"
      },
      "execution_count": null,
      "outputs": [
        {
          "output_type": "stream",
          "name": "stdout",
          "text": [
            "Lista:  [1, 2, 3, 4, 5, 6, 7, 8, 9, 10, 11, 12, 13]\n",
            "Forma 1:  [2, 3, 5, 7, 11, 13]\n",
            "Forma 2:  [2, 3, 5, 7, 11, 13]\n"
          ]
        }
      ]
    },
    {
      "cell_type": "markdown",
      "source": [
        "## 7. Função recebe duas listas e retorna uma lista com os elementos que estão presentes em apenas uma das listas"
      ],
      "metadata": {
        "id": "_uAxo3V_hjEM"
      }
    },
    {
      "cell_type": "code",
      "source": [
        "def elementos_diferentes(lista1, lista2):\n",
        "    elementos_diferentes = [elemento for elemento in lista1 if elemento not in lista2]\n",
        "    return elementos_diferentes\n",
        "\n",
        "# TESTE\n",
        "lista1 = [1, 2, 5, 6, 7, 8]\n",
        "lista2 = [3, 4, 5, 6, 7, 9]\n",
        "\n",
        "elementos_em_comum = [elemento for elemento in lista1 if elemento in lista2]\n",
        "\n",
        "elementos_não_comum_lista1 = elementos_diferentes(lista1, lista2)\n",
        "elementos_não_comum_lista2 = elementos_diferentes(lista2, lista1)\n",
        "\n",
        "\n",
        "print(\"Elementos apenas presentes na lista 1: \", elementos_não_comum_lista1)\n",
        "print(\"Elementos apenas presentes na lista 2: \", elementos_não_comum_lista2)\n",
        "print(\"Elementos comuns: \", elementos_em_comum)\n",
        "\n"
      ],
      "metadata": {
        "colab": {
          "base_uri": "https://localhost:8080/"
        },
        "id": "57M5zWPbhibY",
        "outputId": "f25e0cc4-c3f5-40bf-b1ca-0b5cda4f72ab"
      },
      "execution_count": null,
      "outputs": [
        {
          "output_type": "stream",
          "name": "stdout",
          "text": [
            "Elementos apenas presentes na lista 1:  [1, 2, 8]\n",
            "Elementos apenas presentes na lista 2:  [3, 4, 9]\n",
            "Elementos comuns:  [5, 6, 7]\n"
          ]
        }
      ]
    },
    {
      "cell_type": "markdown",
      "source": [
        "## 8. Função para encontrar o segundo maior número da lista"
      ],
      "metadata": {
        "id": "18K08M_zhwNc"
      }
    },
    {
      "cell_type": "code",
      "source": [
        "def segundo_maior(lista):\n",
        "    lista_ordenada = sorted(lista, reverse=True)\n",
        "    return lista_ordenada[1]\n",
        "\n",
        "numeros = [10, 5, 8, 20, 15, 7, 33, 55]\n",
        "print(\"O segundo maior número é:\", segundo_maior(numeros))"
      ],
      "metadata": {
        "colab": {
          "base_uri": "https://localhost:8080/"
        },
        "id": "qLr3ORjfhwie",
        "outputId": "790b796c-08f1-4348-a34c-63166e26f3ab"
      },
      "execution_count": null,
      "outputs": [
        {
          "output_type": "stream",
          "name": "stdout",
          "text": [
            "O segundo maior número é: 33\n"
          ]
        }
      ]
    },
    {
      "cell_type": "markdown",
      "source": [
        "## 9. Função que receba uma lista de tuplas e retorna lista ordenada\n"
      ],
      "metadata": {
        "id": "rTwrwcughw1T"
      }
    },
    {
      "cell_type": "code",
      "source": [
        "def ordenar_por_nome(pessoas):\n",
        "    lista_ordenada = sorted(pessoas, key=lambda x: x[0])\n",
        "    return lista_ordenada\n",
        "\n",
        "# Lista exemplo\n",
        "pessoas = [('João', 25), ('Maria', 30), ('Carlos', 22), ('Ana', 28), ('Gabriela', 55), ('Juliano', 23)]\n",
        "pessoas_ordenadas = ordenar_por_nome(pessoas)\n",
        "\n",
        "# Usando função anônima\n",
        "pessoas_ordem_alfabetica = sorted(pessoas, key=lambda x: x[0])\n",
        "\n",
        "print(\"Função normal: \", pessoas_ordenadas)\n",
        "print(\"Função anônima:\", pessoas_ordem_alfabetica)\n"
      ],
      "metadata": {
        "colab": {
          "base_uri": "https://localhost:8080/"
        },
        "id": "SAx_0sQchxF8",
        "outputId": "4b2241f8-6977-48eb-f12b-6fa62b2eff1c"
      },
      "execution_count": null,
      "outputs": [
        {
          "output_type": "stream",
          "name": "stdout",
          "text": [
            "Função normal:  [('Ana', 28), ('Carlos', 22), ('Gabriela', 55), ('João', 25), ('Juliano', 23), ('Maria', 30)]\n",
            "Função anônima: [('Ana', 28), ('Carlos', 22), ('Gabriela', 55), ('João', 25), ('Juliano', 23), ('Maria', 30)]\n"
          ]
        }
      ]
    },
    {
      "cell_type": "markdown",
      "source": [
        "## 10. Encontrar o maior e menor numéro de uma só vez"
      ],
      "metadata": {
        "id": "JGU45cUkhxUR"
      }
    },
    {
      "cell_type": "code",
      "source": [
        "numeros = [1, 3, 10, 4, 8, 9, 2, 5, 6, 7, 123, -1]\n",
        "\n",
        "# Usando sort\n",
        "maior, menor = sorted(numeros, reverse=True)[0], sorted(numeros)[0]\n",
        "\n",
        "# Usando método python\n",
        "maior2, menor2 = max(numeros), min(numeros)\n",
        "\n",
        "print(\"O maior número é\", maior, \"entendeu? é\", maior2, \"mesmo\")\n",
        "print(\"O menor numero é\", menor, \"entendeu? é\", menor2, \"mesmo\")"
      ],
      "metadata": {
        "colab": {
          "base_uri": "https://localhost:8080/"
        },
        "id": "L3MQDAIThxiP",
        "outputId": "31e289a0-e864-48c0-ad6d-44bb86ab10b1"
      },
      "execution_count": null,
      "outputs": [
        {
          "output_type": "stream",
          "name": "stdout",
          "text": [
            "O maior número é 123 entendeu? é 123 mesmo\n",
            "O menor numero é -1 entendeu? é -1 mesmo\n"
          ]
        }
      ]
    }
  ]
}