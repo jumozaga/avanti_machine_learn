{
  "nbformat": 4,
  "nbformat_minor": 0,
  "metadata": {
    "colab": {
      "provenance": []
    },
    "kernelspec": {
      "name": "python3",
      "display_name": "Python 3"
    },
    "language_info": {
      "name": "python"
    }
  },
  "cells": [
    {
      "cell_type": "markdown",
      "source": [
        "# ATIVIDADE 1\n",
        "\n"
      ],
      "metadata": {
        "id": "p5f_KLe-pVnb"
      }
    },
    {
      "cell_type": "markdown",
      "source": [
        "## 1. Verificar se uma palavra é palíndromo"
      ],
      "metadata": {
        "id": "r3QvOp1WwKbA"
      }
    },
    {
      "cell_type": "code",
      "source": [
        "palavra = input(\"Digite aqui uma palavra\\n\").upper()\n",
        "print('Palíndromo') if palavra == palavra[::-1] else print('Não é palíndromo')\n",
        "\n"
      ],
      "metadata": {
        "colab": {
          "base_uri": "https://localhost:8080/"
        },
        "id": "fLaIjovUr9qR",
        "outputId": "a3e4359d-ef6c-4933-a925-ce2e3815c147"
      },
      "execution_count": 24,
      "outputs": [
        {
          "output_type": "stream",
          "name": "stdout",
          "text": [
            "Digite aqui uma palavra\n",
            "casa\n",
            "Não é palíndromo\n"
          ]
        }
      ]
    },
    {
      "cell_type": "markdown",
      "source": [
        "## 2. Programa para quando o número digitado for zero"
      ],
      "metadata": {
        "id": "7sjLAyOwwW_b"
      }
    },
    {
      "cell_type": "code",
      "execution_count": 28,
      "metadata": {
        "colab": {
          "base_uri": "https://localhost:8080/"
        },
        "id": "wmF7X6gtpOYP",
        "outputId": "ab6ec6c0-2cac-444e-af12-c8e1503a1876"
      },
      "outputs": [
        {
          "output_type": "stream",
          "name": "stdout",
          "text": [
            "Digite um número, para sair do loop precisa descobrir o número correto \n",
            "2\n",
            "Digite um número, para sair do loop precisa descobrir o número correto \n",
            "6\n",
            "Digite um número, para sair do loop precisa descobrir o número correto \n",
            "7\n",
            "Digite um número, para sair do loop precisa descobrir o número correto \n",
            "2\n",
            "Digite um número, para sair do loop precisa descobrir o número correto \n",
            "0\n",
            "Descobriu o segredo\n"
          ]
        }
      ],
      "source": [
        "while True:\n",
        "  entrada = int(input(\"Digite um número, para sair do loop precisa descobrir o número correto \\n\"))\n",
        "  if entrada == 0:\n",
        "    print(\"Descobriu o segredo\")\n",
        "    break\n"
      ]
    },
    {
      "cell_type": "markdown",
      "source": [
        "## 3. Criar lista com a string (\"python é uma linguagem poderosa\")"
      ],
      "metadata": {
        "id": "8hpzuXngy4KD"
      }
    },
    {
      "cell_type": "code",
      "source": [
        "sring = \"python é uma linguagem poderosa\"\n",
        "print(sring.split())"
      ],
      "metadata": {
        "colab": {
          "base_uri": "https://localhost:8080/"
        },
        "id": "kAuxMEPIzFZ2",
        "outputId": "3de6a10e-5076-4cec-acec-bfc4d0c62b4d"
      },
      "execution_count": 29,
      "outputs": [
        {
          "output_type": "stream",
          "name": "stdout",
          "text": [
            "['python', 'é', 'uma', 'linguagem', 'poderosa']\n"
          ]
        }
      ]
    },
    {
      "cell_type": "markdown",
      "source": [
        "## 4. Criar duas novas listas(Maiores de 5 letras e terminadas com A)"
      ],
      "metadata": {
        "id": "vod1A9gVzWAA"
      }
    },
    {
      "cell_type": "code",
      "source": [
        "# Lista original\n",
        "frutas = ['banana','maçã', 'laranja', 'abacaxi']\n",
        "\n",
        "tem_5_letras = [ i for i in frutas if len(i)>5]\n",
        "termina_com_a = [f for f in frutas if (f.endswith('a') or f.endswith('ã'))]\n",
        "\n",
        "print(\"Frutas: \", frutas)\n",
        "print(\"Frutas com mais de 5 letras: \", tem_5_letras)\n",
        "print(\"Frutas que terminam com A: \", termina_com_a)\n",
        "\n"
      ],
      "metadata": {
        "colab": {
          "base_uri": "https://localhost:8080/"
        },
        "id": "P15rGXOazXOV",
        "outputId": "57c8432b-69fd-4190-b6b1-5e74dfff9224"
      },
      "execution_count": 40,
      "outputs": [
        {
          "output_type": "stream",
          "name": "stdout",
          "text": [
            "Frutas:  ['banana', 'maçã', 'laranja', 'abacaxi']\n",
            "Frutas com mais de 5 letras:  ['banana', 'laranja', 'abacaxi']\n",
            "Frutas que terminam com A:  ['banana', 'maçã', 'laranja']\n"
          ]
        }
      ]
    },
    {
      "cell_type": "markdown",
      "source": [
        "## 5. Retorna lista ímpares"
      ],
      "metadata": {
        "id": "Dy-rwF0B29Sg"
      }
    },
    {
      "cell_type": "code",
      "source": [
        "numeros = [1,2,3,4,5,6,7,8,9,10,11,12,13,14,15,16,17,18,19,20]\n",
        "impares = [ i for i in numeros if i%2 != 0]\n",
        "\n",
        "print('Numeros ', numeros)\n",
        "print('Ímpares ', impares)"
      ],
      "metadata": {
        "colab": {
          "base_uri": "https://localhost:8080/"
        },
        "id": "Yy2GCLuK3Hsi",
        "outputId": "93f982ab-0db6-4f65-b733-a78cf1c95822"
      },
      "execution_count": 41,
      "outputs": [
        {
          "output_type": "stream",
          "name": "stdout",
          "text": [
            "Numeros  [1, 2, 3, 4, 5, 6, 7, 8, 9, 10, 11, 12, 13, 14, 15, 16, 17, 18, 19, 20]\n",
            "Ímpares  [1, 3, 5, 7, 9, 11, 13, 15, 17, 19]\n"
          ]
        }
      ]
    }
  ]
}